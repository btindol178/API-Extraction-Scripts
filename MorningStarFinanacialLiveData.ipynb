{
 "cells": [
  {
   "cell_type": "markdown",
   "metadata": {},
   "source": [
    "# MorningStar Financial Data\n",
    "https://rapidapi.com/apidojo/api/morning-star/endpoints"
   ]
  },
  {
   "cell_type": "code",
   "execution_count": 1,
   "metadata": {},
   "outputs": [
    {
     "name": "stdout",
     "output_type": "stream",
     "text": [
      "{\"status\":\"OK\",\"lastPrice\":788.57,\"bid\":790.3,\"bidSize\":1,\"ask\":790.46,\"askSize\":2,\"lotSize\":100,\"volume\":3190366,\"recentTradingDayOpenPrice\":795,\"dayRangeHigh\":796.7899,\"dayRangeLow\":788.2,\"lastClose\":787.38,\"priceOfTradeAfter\":null,\"timeOfTradeAfter\":null,\"recentTradingDay\":\"2021-02-19\",\"lastUpdateTime\":\"2021-02-19T10:25:43.000\",\"recentTradingDayJulian\":\"19-02-2021\",\"tradingStatus\":\"Open\",\"marketCap\":758682607364.1599121094,\"dividendYield\":null,\"yearRangeHigh\":900.4,\"yearRangeLow\":70.102,\"currencyCode\":\"USD\",\"currencySymbol\":\"$\",\"listedCurrency\":\"USD\",\"tradedCurrency\":null,\"avgVolume\":61874.2459016393,\"exchangeID\":\"XNAS\",\"exchangeName\":\"NASDAQ\",\"exchangeTimeZone\":\"EST\",\"type\":\"Equity\",\"ts\":\"1613748343000\",\"dayChange\":1.27,\"dayChangePer\":0.1613,\"bidMarket\":\"17\",\"askMarket\":\"17\",\"originationMarket\":\"18\",\"message\":\"126.1.TSLA\",\"lastUpdateRealTimeDate\":\"19-02-2021\",\"lastUpdateRealTimeTime\":\"10:25:43.000\",\"nav\":null,\"oneDayReturn\":null,\"navLastDate\":null,\"navLastDate1\":null,\"navLastTime\":null,\"isBats\":true}\n"
     ]
    }
   ],
   "source": [
    "import requests\n",
    "\n",
    "url = \"https://morning-star.p.rapidapi.com/stock/v2/get-realtime-data\"\n",
    "\n",
    "querystring = {\"performanceId\":\"0P0000OQN8\"}\n",
    "\n",
    "headers = {\n",
    "    'x-rapidapi-key': \"3098984b99msh9a120a8ade10e53p1ebdd1jsn7703d6e155d0\",\n",
    "    'x-rapidapi-host': \"morning-star.p.rapidapi.com\"\n",
    "    }\n",
    "\n",
    "response = requests.request(\"GET\", url, headers=headers, params=querystring)\n",
    "\n",
    "print(response.text)"
   ]
  },
  {
   "cell_type": "code",
   "execution_count": 2,
   "metadata": {},
   "outputs": [
    {
     "name": "stdout",
     "output_type": "stream",
     "text": [
      "{\"status\":\"OK\",\"lastPrice\":788.43,\"bid\":789.28,\"bidSize\":1,\"ask\":789.5,\"askSize\":1,\"lotSize\":100,\"volume\":3203610,\"recentTradingDayOpenPrice\":795,\"dayRangeHigh\":796.7899,\"dayRangeLow\":788.2,\"lastClose\":787.38,\"priceOfTradeAfter\":null,\"timeOfTradeAfter\":null,\"recentTradingDay\":\"2021-02-19\",\"lastUpdateTime\":\"2021-02-19T10:25:55.000\",\"recentTradingDayJulian\":\"19-02-2021\",\"tradingStatus\":\"Open\",\"marketCap\":758682607364.1599121094,\"dividendYield\":null,\"yearRangeHigh\":900.4,\"yearRangeLow\":70.102,\"currencyCode\":\"USD\",\"currencySymbol\":\"$\",\"listedCurrency\":\"USD\",\"tradedCurrency\":null,\"avgVolume\":61874.2459016393,\"exchangeID\":\"XNAS\",\"exchangeName\":\"NASDAQ\",\"exchangeTimeZone\":\"EST\",\"type\":\"Equity\",\"ts\":\"1613748355000\",\"dayChange\":1.13,\"dayChangePer\":0.1435,\"bidMarket\":\"19\",\"askMarket\":\"14\",\"originationMarket\":\"18\",\"message\":\"126.1.TSLA\",\"lastUpdateRealTimeDate\":\"19-02-2021\",\"lastUpdateRealTimeTime\":\"10:25:55.000\",\"nav\":null,\"oneDayReturn\":null,\"navLastDate\":null,\"navLastDate1\":null,\"navLastTime\":null,\"isBats\":true}\n"
     ]
    }
   ],
   "source": [
    "import requests\n",
    "\n",
    "url = \"https://morning-star.p.rapidapi.com/stock/v2/get-realtime-data\"\n",
    "\n",
    "querystring = {\"performanceId\":\"0P0000OQN8\"}\n",
    "\n",
    "headers = {\n",
    "    'x-rapidapi-key': \"3098984b99msh9a120a8ade10e53p1ebdd1jsn7703d6e155d0\",\n",
    "    'x-rapidapi-host': \"morning-star.p.rapidapi.com\"\n",
    "    }\n",
    "\n",
    "response = requests.request(\"GET\", url, headers=headers, params=querystring)\n",
    "\n",
    "print(response.text)"
   ]
  },
  {
   "cell_type": "code",
   "execution_count": null,
   "metadata": {},
   "outputs": [],
   "source": [
    "# SEE HOW THE SECONDS ITERATE? AT THE BOTTOM IF MAKE LOOP TO REFRESH SCREEN EVERY SECOND COULD GET A LINE GRAPH THAT GIVES REALTIME DATA?"
   ]
  }
 ],
 "metadata": {
  "kernelspec": {
   "display_name": "Python 3",
   "language": "python",
   "name": "python3"
  },
  "language_info": {
   "codemirror_mode": {
    "name": "ipython",
    "version": 3
   },
   "file_extension": ".py",
   "mimetype": "text/x-python",
   "name": "python",
   "nbconvert_exporter": "python",
   "pygments_lexer": "ipython3",
   "version": "3.8.5"
  }
 },
 "nbformat": 4,
 "nbformat_minor": 4
}
