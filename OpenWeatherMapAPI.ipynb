{
 "cells": [
  {
   "cell_type": "markdown",
   "metadata": {},
   "source": [
    "# https://rapidapi.com/community/api/open-weather-map/endpoints\n",
    "LOGGED IN USING GOOGLE...."
   ]
  },
  {
   "cell_type": "code",
   "execution_count": 4,
   "metadata": {},
   "outputs": [
    {
     "name": "stdout",
     "output_type": "stream",
     "text": [
      "test({\"coord\":{\"lon\":-0.1257,\"lat\":51.5085},\"weather\":[{\"id\":804,\"main\":\"Clouds\",\"description\":\"overcast clouds\",\"icon\":\"04d\"}],\"base\":\"stations\",\"main\":{\"temp\":283.64,\"feels_like\":279.01,\"temp_min\":283.15,\"temp_max\":284.26,\"pressure\":1008,\"humidity\":71},\"visibility\":10000,\"wind\":{\"speed\":5.14,\"deg\":190},\"clouds\":{\"all\":90},\"dt\":1613743569,\"sys\":{\"type\":1,\"id\":1414,\"country\":\"GB\",\"sunrise\":1613718394,\"sunset\":1613755344},\"timezone\":0,\"id\":2643743,\"name\":\"London\",\"cod\":200})\n"
     ]
    }
   ],
   "source": [
    "import requests\n",
    "\n",
    "url = \"https://community-open-weather-map.p.rapidapi.com/weather\"\n",
    "\n",
    "querystring = {\"q\":\"London,uk\",\"lat\":\"0\",\"lon\":\"0\",\"callback\":\"test\",\"id\":\"2172797\",\"lang\":\"null\",\"units\":\"\\\"metric\\\" or \\\"imperial\\\"\",\"mode\":\"xml, html\"}\n",
    "\n",
    "headers = {\n",
    "    'x-rapidapi-key': \"3098984b99msh9a120a8ade10e53p1ebdd1jsn7703d6e155d0\",\n",
    "    'x-rapidapi-host': \"community-open-weather-map.p.rapidapi.com\"\n",
    "    }\n",
    "\n",
    "response = requests.request(\"GET\", url, headers=headers, params=querystring)\n",
    "\n",
    "print(response.text)"
   ]
  },
  {
   "cell_type": "code",
   "execution_count": 5,
   "metadata": {},
   "outputs": [
    {
     "name": "stdout",
     "output_type": "stream",
     "text": [
      "test({\"coord\":{\"lon\":-83.0458,\"lat\":42.3314},\"weather\":[{\"id\":800,\"main\":\"Clear\",\"description\":\"clear sky\",\"icon\":\"01d\"}],\"base\":\"stations\",\"main\":{\"temp\":266.43,\"feels_like\":261.68,\"temp_min\":265.15,\"temp_max\":267.15,\"pressure\":1023,\"humidity\":86},\"visibility\":10000,\"wind\":{\"speed\":2.57,\"deg\":290},\"clouds\":{\"all\":1},\"dt\":1613743464,\"sys\":{\"type\":1,\"id\":3806,\"country\":\"US\",\"sunrise\":1613737365,\"sunset\":1613776172},\"timezone\":-18000,\"id\":4990729,\"name\":\"Detroit\",\"cod\":200})\n"
     ]
    }
   ],
   "source": [
    "url = \"https://community-open-weather-map.p.rapidapi.com/weather\"\n",
    "\n",
    "querystring = {\"q\":\"Detroit,us\",\"lat\":\"0\",\"lon\":\"0\",\"callback\":\"test\",\"id\":\"2172797\",\"lang\":\"null\",\"units\":\"\\\"metric\\\" or \\\"imperial\\\"\",\"mode\":\"xml, html\"}\n",
    "\n",
    "headers = {\n",
    "    'x-rapidapi-key': \"3098984b99msh9a120a8ade10e53p1ebdd1jsn7703d6e155d0\",\n",
    "    'x-rapidapi-host': \"community-open-weather-map.p.rapidapi.com\"\n",
    "    }\n",
    "\n",
    "response = requests.request(\"GET\", url, headers=headers, params=querystring)\n",
    "\n",
    "print(response.text)"
   ]
  },
  {
   "cell_type": "code",
   "execution_count": 6,
   "metadata": {},
   "outputs": [],
   "source": [
    "var = \"Detroit,us\""
   ]
  },
  {
   "cell_type": "code",
   "execution_count": 7,
   "metadata": {},
   "outputs": [
    {
     "name": "stdout",
     "output_type": "stream",
     "text": [
      "test({\"coord\":{\"lon\":-83.0458,\"lat\":42.3314},\"weather\":[{\"id\":800,\"main\":\"Clear\",\"description\":\"clear sky\",\"icon\":\"01d\"}],\"base\":\"stations\",\"main\":{\"temp\":266.42,\"feels_like\":261.67,\"temp_min\":265.15,\"temp_max\":267.15,\"pressure\":1023,\"humidity\":86},\"visibility\":10000,\"wind\":{\"speed\":2.57,\"deg\":290},\"clouds\":{\"all\":1},\"dt\":1613743579,\"sys\":{\"type\":1,\"id\":3806,\"country\":\"US\",\"sunrise\":1613737365,\"sunset\":1613776172},\"timezone\":-18000,\"id\":4990729,\"name\":\"Detroit\",\"cod\":200})\n"
     ]
    }
   ],
   "source": [
    "url = \"https://community-open-weather-map.p.rapidapi.com/weather\"\n",
    "\n",
    "querystring = {\"q\":var,\"lat\":\"0\",\"lon\":\"0\",\"callback\":\"test\",\"id\":\"2172797\",\"lang\":\"null\",\"units\":\"\\\"metric\\\" or \\\"imperial\\\"\",\"mode\":\"xml, html\"}\n",
    "\n",
    "headers = {\n",
    "    'x-rapidapi-key': \"3098984b99msh9a120a8ade10e53p1ebdd1jsn7703d6e155d0\",\n",
    "    'x-rapidapi-host': \"community-open-weather-map.p.rapidapi.com\"\n",
    "    }\n",
    "\n",
    "response = requests.request(\"GET\", url, headers=headers, params=querystring)\n",
    "\n",
    "print(response.text)"
   ]
  },
  {
   "cell_type": "code",
   "execution_count": null,
   "metadata": {},
   "outputs": [],
   "source": []
  }
 ],
 "metadata": {
  "kernelspec": {
   "display_name": "Python 3",
   "language": "python",
   "name": "python3"
  },
  "language_info": {
   "codemirror_mode": {
    "name": "ipython",
    "version": 3
   },
   "file_extension": ".py",
   "mimetype": "text/x-python",
   "name": "python",
   "nbconvert_exporter": "python",
   "pygments_lexer": "ipython3",
   "version": "3.8.5"
  }
 },
 "nbformat": 4,
 "nbformat_minor": 4
}
