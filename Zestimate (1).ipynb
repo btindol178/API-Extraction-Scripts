{
 "cells": [
  {
   "cell_type": "code",
   "execution_count": null,
   "metadata": {},
   "outputs": [],
   "source": [
    "import requests\n",
    "import pandas as pd #make API calls with python\n",
    "import requests #allows us to store results of API call cleanly\n",
    "import json #helps manipulate json\n",
    "import csv # helps with csv files\n",
    "from bs4 import BeautifulSoup\n"
   ]
  },
  {
   "cell_type": "code",
   "execution_count": 30,
   "metadata": {},
   "outputs": [
    {
     "name": "stdout",
     "output_type": "stream",
     "text": [
      "Collecting pyzillow\n",
      "  Downloading pyzillow-0.7.0-py2.py3-none-any.whl (9.0 kB)\n",
      "Requirement already satisfied: requests in c:\\users\\btindol\\anaconda3\\lib\\site-packages (from pyzillow) (2.24.0)\n",
      "Requirement already satisfied: certifi>=2017.4.17 in c:\\users\\btindol\\anaconda3\\lib\\site-packages (from requests->pyzillow) (2020.6.20)\n",
      "Requirement already satisfied: idna<3,>=2.5 in c:\\users\\btindol\\anaconda3\\lib\\site-packages (from requests->pyzillow) (2.10)\n",
      "Requirement already satisfied: chardet<4,>=3.0.2 in c:\\users\\btindol\\anaconda3\\lib\\site-packages (from requests->pyzillow) (3.0.4)\n",
      "Requirement already satisfied: urllib3!=1.25.0,!=1.25.1,<1.26,>=1.21.1 in c:\\users\\btindol\\anaconda3\\lib\\site-packages (from requests->pyzillow) (1.25.11)\n",
      "Installing collected packages: pyzillow\n",
      "Successfully installed pyzillow-0.7.0\n"
     ]
    }
   ],
   "source": [
    "!pip install pyzillow\n"
   ]
  },
  {
   "cell_type": "code",
   "execution_count": 31,
   "metadata": {},
   "outputs": [
    {
     "name": "stdout",
     "output_type": "stream",
     "text": [
      "84074482\n"
     ]
    }
   ],
   "source": [
    "from pyzillow.pyzillow import ZillowWrapper, GetDeepSearchResults\n",
    "address = '1600 Pennsylvania Ave NW, Washington, DC'\n",
    "zipcode = '20006'\n",
    "zillow_data = ZillowWrapper('X1-ZWz1fjckjdd8gb_a2eph')\n",
    "deep_search_response = zillow_data.get_deep_search_results(address,zipcode)\n",
    "result = GetDeepSearchResults(deep_search_response)\n",
    "print(result.zillow_id) "
   ]
  },
  {
   "cell_type": "code",
   "execution_count": 32,
   "metadata": {},
   "outputs": [],
   "source": [
    "from pyzillow.pyzillow import ZillowWrapper\n",
    "zillow_data = ZillowWrapper(\"X1-ZWz16sbwla7rij_4n5nu\")"
   ]
  },
  {
   "cell_type": "code",
   "execution_count": 33,
   "metadata": {},
   "outputs": [
    {
     "data": {
      "text/plain": [
       "<pyzillow.pyzillow.ZillowWrapper at 0x1a9ea1cb940>"
      ]
     },
     "execution_count": 33,
     "metadata": {},
     "output_type": "execute_result"
    }
   ],
   "source": [
    "zillow_data"
   ]
  },
  {
   "cell_type": "markdown",
   "metadata": {},
   "source": [
    "# Random data to see how it works"
   ]
  },
  {
   "cell_type": "code",
   "execution_count": 38,
   "metadata": {
    "scrolled": true
   },
   "outputs": [
    {
     "name": "stdout",
     "output_type": "stream",
     "text": [
      "3.0\n"
     ]
    }
   ],
   "source": [
    "from pyzillow.pyzillow import ZillowWrapper, GetDeepSearchResults\n",
    "zillow_data = ZillowWrapper(\"X1-ZWz1fjckjdd8gb_a2eph\")\n",
    "deep_search_response = zillow_data.get_deep_search_results('2114 Bigelow Ave', '98109', True)\n",
    "result = GetDeepSearchResults(deep_search_response)\n",
    "print(result.bathrooms)"
   ]
  },
  {
   "cell_type": "markdown",
   "metadata": {},
   "source": [
    "# Data from our house"
   ]
  },
  {
   "cell_type": "code",
   "execution_count": 67,
   "metadata": {
    "scrolled": true
   },
   "outputs": [
    {
     "name": "stdout",
     "output_type": "stream",
     "text": [
      "Bathrooms 2.0\n",
      "Bedrooms 3\n",
      "County fips 26159\n",
      "None\n",
      "The Zillow ID is 74820138\n",
      "zestimate percentile is 0\n",
      "zestimate last updated 02/22/2021\n",
      "zestimate amount  155515\n",
      "http://www.zillow.com/homes/74820138_zpid/\n",
      "Valuation Range High End 155515\n",
      "Valuation Range Low End 155515\n",
      "Last sold price 149000\n",
      "City Paw Paw\n",
      "http://www.zillow.com/homedetails/50333-Carino-Ct-Paw-Paw-MI-49079/74820138_zpid/#charts-and-data\n",
      "Rent Zestimate Amount 1200\n",
      "Zipcode 49079\n",
      "Street 50333 Carino Ct\n"
     ]
    }
   ],
   "source": [
    "from pyzillow.pyzillow import ZillowWrapper, GetDeepSearchResults ,GetUpdatedPropertyDetails\n",
    "zillow_data = ZillowWrapper(\"X1-ZWz1fjckjdd8gb_a2eph\")\n",
    "deep_search_response = zillow_data.get_deep_search_results('50333 Carino Ct ', '49079', True)\n",
    "result = GetDeepSearchResults(deep_search_response)\n",
    "print(\"Bathrooms \" +result.bathrooms)\n",
    "print(\"Bedrooms \" + result.bedrooms)\n",
    "print(\"County fips \" + result.fips_county)\n",
    "print(result.total_rooms)\n",
    "print(\"The Zillow ID is \" +result.zillow_id)\n",
    "print(\"zestimate percentile is \" +result.zestimate_percentile)\n",
    "print(\"zestimate last updated \" +result.zestimate_last_updated)\n",
    "print(\"zestimate amount  \" +result.zestimate_amount)\n",
    "print(result.map_this_home_link)\n",
    "print(\"Valuation Range High End \" +result.zestimate_valuation_range_high)\n",
    "print(\"Valuation Range Low End \" +result.zestimate_valuation_range_low)\n",
    "print(\"Last sold price \" +result.last_sold_price)\n",
    "print(\"City \" + result.city)\n",
    "print(result.graph_data_link)\n",
    "print(\"Rent Zestimate Amount \" + result.rentzestimate_amount)\n",
    "print(\"Zipcode \" + result.zipcode)\n",
    "print(\"Street \" + result.street)"
   ]
  },
  {
   "cell_type": "code",
   "execution_count": 83,
   "metadata": {},
   "outputs": [
    {
     "name": "stdout",
     "output_type": "stream",
     "text": [
      "Home Type SingleFamily\n",
      "Grage Garage - Attached\n",
      "Appliances Microwave, Range / Oven, Refrigerator, Washer, Dishwasher, Dryer\n",
      "Bathrooms 2.0\n",
      "Bedrooms 3\n",
      "cooling_system Central\n",
      "exterior_material Vinyl\n",
      "heating_sources Gas\n",
      "heating_system Forced air\n",
      "home_description Welcome to this beautiful ranch style home sitting on one acre. This home has been well maintained since it was built in 1997. Tons of storage in the large kitchen and in each of the three bedrooms. Amazing natural light and well insulated walls keep energy costs down. The master bedroom is connected to a private bath. Enjoy Michigan summers by walking down to Maple Lake or sitting on the large front porch. The powered storage shed is the perfect place to store all your gardening and yard tools. Enjoy peace of mind with the provided one-year home warranty upon request. This home is a must see! Call today for your private showing. 1-833-BP-CARES\n",
      "home_info http://www.zillow.com/homedetails/50333-Carino-Ct-Paw-Paw-MI-49079/74820138_zpid/\n",
      "page_view_count_this_month 1\n",
      "page_view_count_total 1\n",
      "property_size 43560\n",
      "roof Composition\n",
      "rooms Pantry\n",
      "school_district Paw Paw\n"
     ]
    }
   ],
   "source": [
    "zillow_data = ZillowWrapper(\"X1-ZWz1fjckjdd8gb_a2eph\")\n",
    "updated_property_details_response = zillow_data.get_updated_property_details('74820138')\n",
    "result = GetUpdatedPropertyDetails(updated_property_details_response)\n",
    "print(\"Home Type \" +result.home_type)\n",
    "print(\"Grage \" + result.parking_type)\n",
    "print(\"Appliances \" + result.appliances)\n",
    "#print(\"Basement \" + result.basement)\n",
    "\n",
    "print(\"Bathrooms \" +result.bathrooms)\n",
    "print(\"Bedrooms \" + result.bedrooms)\n",
    "#print(\"brokerage \" + result.brokerage)\n",
    "#print(result.total_rooms)\n",
    "print(\"cooling_system \" +result.cooling_system)\n",
    "#print(\"elementary_school \" +result.elementary_school)\n",
    "print(\"exterior_material \" +result.exterior_material)\n",
    "#print(\"floor_material  \" +result.floor_material)\n",
    "#print(result.map_this_home_link)\n",
    "print(\"heating_sources \" +result.heating_sources)\n",
    "print(\"heating_system \" +result.heating_system)\n",
    "#print(\"high_school\" +result.high_school)\n",
    "print(\"home_description \" + result.home_description)\n",
    "#print(result.graph_data_link)\n",
    "print(\"home_info \" + result.home_info)\n",
    "\n",
    "#print(\"middle_school \" + result.middle_school)\n",
    "#print(\"neighborhood \" + result.neighborhood)\n",
    "#print(\"num_floors \" + result.num_floors)\n",
    "#print(\"num_rooms \" + result.num_rooms)\n",
    "print(\"page_view_count_this_month \" + result.page_view_count_this_month)\n",
    "print(\"page_view_count_total \" + result.page_view_count_total)\n",
    "#print(\"price \" + result.price)\n",
    "print(\"property_size \" + result.property_size)\n",
    "\n",
    "print(\"roof \" + result.roof)\n",
    "print(\"rooms \" + result.rooms)\n",
    "print(\"school_district \" + result.school_district)\n"
   ]
  },
  {
   "cell_type": "markdown",
   "metadata": {},
   "source": [
    "# Go here to find comps <br>\n",
    "https://www.melissa.com/v2/lookups/addresssearch/?number=&street=Carino+Ct&city=Paw+Paw&state=MI&zip=49079-9661&freeForm=\n",
    "Scrape these addresses and put them into the zillow app here"
   ]
  },
  {
   "cell_type": "code",
   "execution_count": null,
   "metadata": {},
   "outputs": [],
   "source": [
    "Scrape these addresses and put the"
   ]
  }
 ],
 "metadata": {
  "kernelspec": {
   "display_name": "Python 3",
   "language": "python",
   "name": "python3"
  },
  "language_info": {
   "codemirror_mode": {
    "name": "ipython",
    "version": 3
   },
   "file_extension": ".py",
   "mimetype": "text/x-python",
   "name": "python",
   "nbconvert_exporter": "python",
   "pygments_lexer": "ipython3",
   "version": "3.8.5"
  }
 },
 "nbformat": 4,
 "nbformat_minor": 4
}
