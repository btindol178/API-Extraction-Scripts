{
 "cells": [
  {
   "cell_type": "markdown",
   "metadata": {},
   "source": [
    "# Google Translate API (FREE)"
   ]
  },
  {
   "cell_type": "markdown",
   "metadata": {},
   "source": [
    "https://rapidapi.com/googlecloud/api/google-translate1/endpoints"
   ]
  },
  {
   "cell_type": "code",
   "execution_count": 3,
   "metadata": {},
   "outputs": [
    {
     "name": "stdout",
     "output_type": "stream",
     "text": [
      "{\"data\":{\"translations\":[{\"translatedText\":\"¡Hola Mundo!\"}]}}\n"
     ]
    }
   ],
   "source": [
    "import requests\n",
    "\n",
    "url = \"https://google-translate1.p.rapidapi.com/language/translate/v2\"\n",
    "\n",
    "payload = \"q=Hello%2C%20world!&source=en&target=es\"   # HELLOW WORLD IS IN HERE SOURCE IS ENGLISH AND TARGET IS ES....\n",
    "headers = {\n",
    "    'content-type': \"application/x-www-form-urlencoded\",\n",
    "    'accept-encoding': \"application/gzip\",\n",
    "    'x-rapidapi-key': \"3098984b99msh9a120a8ade10e53p1ebdd1jsn7703d6e155d0\",\n",
    "    'x-rapidapi-host': \"google-translate1.p.rapidapi.com\"\n",
    "    }\n",
    "\n",
    "response = requests.request(\"POST\", url, data=payload, headers=headers)\n",
    "\n",
    "print(response.text)"
   ]
  },
  {
   "cell_type": "code",
   "execution_count": 5,
   "metadata": {},
   "outputs": [
    {
     "name": "stdout",
     "output_type": "stream",
     "text": [
      "{\"data\":{\"translations\":[{\"translatedText\":\"¡Hola Mundo!\"}]}}\n"
     ]
    }
   ],
   "source": [
    "# english to irish ga\n",
    "var = \"hello\"\n",
    "var2 = \"world\"\n",
    "\n",
    "\n",
    "payload = \"q=Hello%2C%20world!&source=en&target=es\"   # HELLOW WORLD IS IN HERE SOURCE IS ENGLISH AND TARGET IS ES....\n",
    "payload = 'q=' + var + '%2C%20' + var2 + '!&source=en&target=es'\n",
    "headers = {\n",
    "    'content-type': \"application/x-www-form-urlencoded\",\n",
    "    'accept-encoding': \"application/gzip\",\n",
    "    'x-rapidapi-key': \"3098984b99msh9a120a8ade10e53p1ebdd1jsn7703d6e155d0\",\n",
    "    'x-rapidapi-host': \"google-translate1.p.rapidapi.com\"\n",
    "    }\n",
    "\n",
    "response = requests.request(\"POST\", url, data=payload, headers=headers)\n",
    "\n",
    "print(response.text)"
   ]
  },
  {
   "cell_type": "code",
   "execution_count": null,
   "metadata": {},
   "outputs": [],
   "source": []
  }
 ],
 "metadata": {
  "kernelspec": {
   "display_name": "Python 3",
   "language": "python",
   "name": "python3"
  },
  "language_info": {
   "codemirror_mode": {
    "name": "ipython",
    "version": 3
   },
   "file_extension": ".py",
   "mimetype": "text/x-python",
   "name": "python",
   "nbconvert_exporter": "python",
   "pygments_lexer": "ipython3",
   "version": "3.8.5"
  }
 },
 "nbformat": 4,
 "nbformat_minor": 4
}
